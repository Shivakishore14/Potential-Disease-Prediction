{
 "cells": [
  {
   "cell_type": "code",
   "execution_count": 1,
   "metadata": {
    "collapsed": true,
    "_cell_guid": "1a35d647-79b7-40a8-86aa-adc4e5bb33cf",
    "_uuid": "e80657e1dba9c8011e3c89ff215e50b2793bf637",
    "trusted": true
   },
   "outputs": [],
   "source": [
    "import numpy as np\n",
    "import pandas as pd\n",
    "import seaborn as sns\n",
    "import matplotlib.pyplot as plt\n",
    "from sklearn.model_selection import train_test_split, GridSearchCV\n",
    "from sklearn.metrics import roc_curve, auc, confusion_matrix, classification_report,accuracy_score\n",
    "from sklearn.ensemble import RandomForestClassifier\n",
    "import warnings\n",
    "warnings.filterwarnings('ignore')\n",
    "%matplotlib inline\n",
    "\n",
    "def auc_scorer(clf, X, y, model): # Helper function to plot the ROC curve\n",
    "    if model=='RF':\n",
    "        fpr, tpr, _ = roc_curve(y, clf.predict_proba(X)[:,1])\n",
    "    elif model=='SVM':\n",
    "        fpr, tpr, _ = roc_curve(y, clf.decision_function(X))\n",
    "    roc_auc = auc(fpr, tpr)\n",
    "\n",
    "    plt.figure()    # Plot the ROC curve\n",
    "    plt.plot(fpr, tpr, label='ROC curve from '+model+' model (area = %0.3f)' % roc_auc)\n",
    "    plt.plot([0, 1], [0, 1], 'k--')\n",
    "    plt.xlim([0.0, 1.0])\n",
    "    plt.ylim([0.0, 1.05])\n",
    "    plt.xlabel('False Positive Rate')\n",
    "    plt.ylabel('True Positive Rate')\n",
    "    plt.title('ROC Curve')\n",
    "    plt.legend(loc=\"lower right\")\n",
    "    plt.show()\n",
    "\n",
    "    return fpr,tpr,roc_auc\n",
    "\n",
    "# from subprocess import check_output\n",
    "# print(check_output([\"ls\", \"../input\"]).decode(\"utf8\"))"
   ]
  },
  {
   "cell_type": "code",
   "execution_count": 2,
   "metadata": {
    "collapsed": true,
    "_cell_guid": "2795e5b4-a0e0-4ca6-9374-37b554a6115b",
    "_uuid": "7411d96d0f393dd253f6dc6aa8d6a24a220647c4",
    "trusted": true
   },
   "outputs": [],
   "source": [
    "df = pd.read_csv('../input/kidney_disease.csv')"
   ]
  },
  {
   "cell_type": "code",
   "execution_count": 3,
   "metadata": {
    "collapsed": true,
    "_cell_guid": "d26cdb91-8988-455a-9c16-cf98b901a82a",
    "_uuid": "d673c87769a249511ff4143f186d74482e201516",
    "trusted": true
   },
   "outputs": [],
   "source": [
    "# Map text to 1/0 and do some cleaning\n",
    "df[['htn','dm','cad','pe','ane']] = df[['htn','dm','cad','pe','ane']].replace(to_replace={'yes':1,'no':0})\n",
    "df[['rbc','pc']] = df[['rbc','pc']].replace(to_replace={'abnormal':1,'normal':0})\n",
    "df[['pcc','ba']] = df[['pcc','ba']].replace(to_replace={'present':1,'notpresent':0})\n",
    "df[['appet']] = df[['appet']].replace(to_replace={'good':1,'poor':0,'no':np.nan})\n",
    "df['classification'] = df['classification'].replace(to_replace={'ckd':1.0,'ckd\\t':1.0,'notckd':0.0,'no':0.0})\n",
    "df.rename(columns={'classification':'class'},inplace=True)"
   ]
  },
  {
   "cell_type": "code",
   "execution_count": 4,
   "metadata": {
    "collapsed": true,
    "_cell_guid": "ad80743d-6471-4871-a817-c6cf96f73f3b",
    "_uuid": "c40044cea7ae9b4ab210b54ccc2c3c8f37783287",
    "trusted": true
   },
   "outputs": [],
   "source": [
    "# Further cleaning\n",
    "df['pe'] = df['pe'].replace(to_replace='good',value=0) # Not having pedal edema is good\n",
    "df['appet'] = df['appet'].replace(to_replace='no',value=0)\n",
    "df['cad'] = df['cad'].replace(to_replace='\\tno',value=0)\n",
    "df['dm'] = df['dm'].replace(to_replace={'\\tno':0,'\\tyes':1,' yes':1, '':np.nan})\n",
    "df.drop('id',axis=1,inplace=True)"
   ]
  },
  {
   "cell_type": "code",
   "execution_count": 5,
   "metadata": {
    "_cell_guid": "10731633-cd50-41ce-9c95-a60dc8ac8e8f",
    "_uuid": "775c0d2c2c49b847ab698964a033e5f124fa42d3",
    "trusted": true
   },
   "outputs": [],
   "source": [
    "df.head()"
   ]
  },
  {
   "cell_type": "code",
   "execution_count": 6,
   "metadata": {
    "_cell_guid": "e4242e89-614a-4a6f-bd45-2f82351b5d04",
    "_uuid": "3d98f3adfcf97d96b3bc9ff37b4ab8c4c13d3dbb",
    "trusted": true
   },
   "outputs": [],
   "source": [
    "df2 = df.dropna(axis=0)\n",
    "df2['class'].value_counts()"
   ]
  },
  {
   "cell_type": "code",
   "execution_count": 7,
   "metadata": {
    "_cell_guid": "19b64021-bcdf-4f88-913b-962390628f8d",
    "_uuid": "4943b12c51e4561e285a6272ce2180d0601bb6ae",
    "trusted": true
   },
   "outputs": [],
   "source": [
    "corr_df = df2.corr()\n",
    "\n",
    "# Generate a mask for the upper triangle\n",
    "mask = np.zeros_like(corr_df, dtype=np.bool)\n",
    "mask[np.triu_indices_from(mask)] = True\n",
    "\n",
    "# Set up the matplotlib figure\n",
    "f, ax = plt.subplots(figsize=(11, 9))\n",
    "\n",
    "# Generate a custom diverging colormap\n",
    "cmap = sns.diverging_palette(220, 10, as_cmap=True)\n",
    "\n",
    "# Draw the heatmap with the mask and correct aspect ratio\n",
    "sns.heatmap(corr_df, mask=mask, cmap=cmap, vmax=.3, center=0,\n",
    "            square=True, linewidths=.5, cbar_kws={\"shrink\": .5})\n",
    "plt.title('Correlations between different predictors')\n",
    "plt.show()"
   ]
  },
  {
   "cell_type": "code",
   "execution_count": 8,
   "metadata": {
    "collapsed": true,
    "_cell_guid": "5eb0de02-55b0-447d-9a14-7ec9915d7ffc",
    "_uuid": "71f45a3d6c98d57ac8f1592388f5700316de502a",
    "trusted": true
   },
   "outputs": [],
   "source": [
    "X_train, X_test, y_train, y_test = train_test_split(df2.iloc[:,:-1], df2['class'], \n",
    "                                                    test_size = 0.33, random_state=44,\n",
    "                                                   stratify= df2['class'] )\n"
   ]
  },
  {
   "cell_type": "code",
   "execution_count": 9,
   "metadata": {
    "_cell_guid": "a44df0d8-f87e-4f17-b7fc-5dc74aeb9af0",
    "_uuid": "fe32d3246677ac2ea2edb679f8bdeb036a12f24f",
    "trusted": true
   },
   "outputs": [],
   "source": [
    "print(X_train.shape)\n",
    "print(X_test.shape)"
   ]
  },
  {
   "cell_type": "code",
   "execution_count": 10,
   "metadata": {
    "_cell_guid": "a91caed3-dab3-4151-99c4-5d7d6853f745",
    "_uuid": "8c2d9a6eacd3d3f27be1c3c4bc042d839c778b69",
    "trusted": true
   },
   "outputs": [],
   "source": [
    "y_train.value_counts()"
   ]
  },
  {
   "cell_type": "code",
   "execution_count": null,
   "metadata": {
    "_cell_guid": "53b832b7-b6ed-4efc-93fe-e1c8d312bdc1",
    "_uuid": "068ddf02dceed8fc7f18c6d7bba431bfbd7de056",
    "trusted": true,
    "collapsed": true
   },
   "outputs": [],
   "source": [
    "tuned_parameters = [{'n_estimators':[7,8,9,10,11,12,13,14,15,16],'max_depth':[2,3,4,5,6,None],\n",
    "                     'class_weight':[None,{0: 0.33,1:0.67},'balanced'],'random_state':[42]}]\n",
    "clf = GridSearchCV(RandomForestClassifier(), tuned_parameters, cv=10,scoring='f1')\n",
    "clf.fit(X_train, y_train)\n",
    "\n",
    "print(\"Detailed classification report:\")\n",
    "y_true, lr_pred = y_test, clf.predict(X_test)\n",
    "print(classification_report(y_true, lr_pred))\n",
    "\n",
    "confusion = confusion_matrix(y_test, lr_pred)\n",
    "print('Confusion Matrix:')\n",
    "print(confusion)\n",
    "\n",
    "# Determine the false positive and true positive rates\n",
    "#fpr,tpr,roc_auc = auc_scorer(clf, X_test, y_test, 'RF')\n",
    "\n",
    "print('Best parameters:')\n",
    "print(clf.best_params_)\n",
    "clf_best = clf.best_estimator_\n"
   ]
  },
  {
   "cell_type": "code",
   "execution_count": null,
   "metadata": {
    "_cell_guid": "c389c50a-3437-474b-a02f-7fdc7a5607fa",
    "_uuid": "78fa6089f36ed50c7888b6d32ae94e5e7e0f7bf1",
    "trusted": true,
    "collapsed": true
   },
   "outputs": [],
   "source": [
    "plt.figure(figsize=(12,3))\n",
    "features = X_test.columns.values.tolist()\n",
    "importance = clf_best.feature_importances_.tolist()\n",
    "feature_series = pd.Series(data=importance,index=features)\n",
    "feature_series.plot.bar()\n",
    "plt.title('Feature Importance')"
   ]
  },
  {
   "cell_type": "code",
   "execution_count": null,
   "metadata": {
    "_cell_guid": "6cb8a976-2759-4977-90a6-ff4620cdcad0",
    "_uuid": "7adf7c33dee3385773492ecb9b3d837d1e018667",
    "trusted": true,
    "collapsed": true
   },
   "outputs": [],
   "source": [
    "list_to_fill = X_test.columns[feature_series>0]\n",
    "print(list_to_fill)"
   ]
  },
  {
   "cell_type": "code",
   "execution_count": null,
   "metadata": {
    "_cell_guid": "f9075981-ffbc-4650-aa48-f88f2329af28",
    "_uuid": "02c51e5a3b53c0812ec4402a29b4220c49193867",
    "trusted": true,
    "collapsed": true
   },
   "outputs": [],
   "source": [
    "# Are there correlation in missing values?\n",
    "corr_df = pd.isnull(df).corr()\n",
    "\n",
    "# Generate a mask for the upper triangle\n",
    "mask = np.zeros_like(corr_df, dtype=np.bool)\n",
    "mask[np.triu_indices_from(mask)] = True\n",
    "\n",
    "# Set up the matplotlib figure\n",
    "# f, ax = plt.subplots(figsize=(11, 9))\n",
    "\n",
    "# Generate a custom diverging colormap\n",
    "# cmap = sns.diverging_palette(220, 10, as_cmap=True)\n",
    "\n",
    "# Draw the heatmap with the mask and correct aspect ratio\n",
    "# sns.heatmap(corr_df, mask=mask, cmap=cmap, vmax=.3, center=0,\n",
    "#             square=True, linewidths=.5, cbar_kws={\"shrink\": .5})\n",
    "# # plt.show()"
   ]
  },
  {
   "cell_type": "code",
   "execution_count": null,
   "metadata": {
    "_cell_guid": "6d5371a7-4a8f-47fc-8151-d659cf3e3494",
    "_uuid": "2cec0c3b125d51d54162e02ecf0a50173250d16e",
    "trusted": true,
    "collapsed": true
   },
   "outputs": [],
   "source": [
    "df2 = df.dropna(axis=0)\n",
    "no_na = df2.index.tolist()\n",
    "some_na = df.drop(no_na).apply(lambda x: pd.to_numeric(x,errors='coerce'))\n",
    "some_na = some_na.fillna(0) # Fill up all Nan by zero.\n",
    "\n",
    "X_test = some_na.iloc[:,:-1]\n",
    "y_test = some_na['class']\n",
    "y_true = y_test\n",
    "lr_pred = clf_best.predict(X_test)\n",
    "print(classification_report(y_true, lr_pred))\n",
    "\n",
    "confusion = confusion_matrix(y_test, lr_pred)\n",
    "print('Confusion Matrix:')\n",
    "print(confusion)\n",
    "\n",
    "# print('Accuracy: %3f' % accuracy_score(y_true, lr_pred))\n",
    "# Determine the false positive and true positive rates\n",
    "# fpr,tpr,roc_auc = auc_scorer(clf_best, X_test, y_test, 'RF')\n"
   ]
  },
  {
   "cell_type": "code",
   "execution_count": null,
   "metadata": {
    "collapsed": true,
    "_cell_guid": "c0e3204c-0484-4793-9a48-b99ecc76d49d",
    "_uuid": "afcf2c4c5e46db885f7485302b955a958d9422da",
    "trusted": true
   },
   "outputs": [],
   "source": [
    ""
   ]
  },
  {
   "cell_type": "code",
   "execution_count": null,
   "metadata": {
    "collapsed": true,
    "_cell_guid": "5e3e09c3-b856-4d8e-9e5f-77a2185c2bed",
    "_uuid": "68c38666d274c1421a5778408cd01a66859bae7e",
    "trusted": true
   },
   "outputs": [],
   "source": [
    ""
   ]
  },
  {
   "cell_type": "code",
   "execution_count": null,
   "metadata": {
    "collapsed": true,
    "_cell_guid": "1bd0c0eb-2132-4e80-9eff-76b308907b53",
    "_uuid": "e3b71c0118d77ce326ee107e0fae649110d8eed7",
    "trusted": true
   },
   "outputs": [],
   "source": [
    ""
   ]
  },
  {
   "cell_type": "code",
   "execution_count": null,
   "metadata": {
    "collapsed": true,
    "_cell_guid": "8f6603b7-46f2-414b-b15b-e89e552fe335",
    "_uuid": "480782d5e2ed3924eef77c75ed5bd61325fff4b4",
    "trusted": false
   },
   "outputs": [],
   "source": [
    ""
   ]
  },
  {
   "cell_type": "code",
   "execution_count": null,
   "metadata": {
    "collapsed": true,
    "_cell_guid": "a8dc5ea5-f394-4a01-a5bc-2aee26dcf76e",
    "_uuid": "6f830999821d7646b821fa6b3e8ba84cd90f06ac",
    "trusted": false
   },
   "outputs": [],
   "source": [
    ""
   ]
  }
 ],
 "metadata": {
  "language_info": {
   "name": "python",
   "version": "3.6.4",
   "mimetype": "text/x-python",
   "codemirror_mode": {
    "name": "ipython",
    "version": 3
   },
   "pygments_lexer": "ipython3",
   "nbconvert_exporter": "python",
   "file_extension": ".py"
  },
  "kernelspec": {
   "display_name": "Python 3",
   "language": "python",
   "name": "python3"
  }
 },
 "nbformat": 4,
 "nbformat_minor": 1
}
